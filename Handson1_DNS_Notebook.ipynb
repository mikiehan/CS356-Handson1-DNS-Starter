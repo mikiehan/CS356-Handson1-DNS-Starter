{
 "cells": [
  {
   "cell_type": "markdown",
   "metadata": {},
   "source": [
    "# DNS"
   ]
  },
  {
   "cell_type": "markdown",
   "metadata": {},
   "source": [
    "This is an individual assignment. In this hands-on exercise, you will get to explore DNS. Prior to working on this exercise, watch all videos under [Canvas -> Panopto Videos -> DNS](https://utexas.hosted.panopto.com/Panopto/Pages/Sessions/List.aspx?folderID=600b7676-8786-478d-998e-ac9200a0ea56), which will help you finish this exericse (especially the last 2 videos). In this write up, you will first read a quick introduction on the tools we use to work with DNS. After that, you will answer some short questions. The instructions for submission, are at the end of this page.  \n",
    "**Put your name in the cell below:**\n"
   ]
  },
  {
   "cell_type": "markdown",
   "metadata": {},
   "source": [
    "NAME: \n",
    "\n",
    "\n"
   ]
  },
  {
   "cell_type": "markdown",
   "metadata": {},
   "source": [
    "## Introduction\n",
    "\n",
    "#### dig\n",
    "A good tool for exploring DNS is <code>dig</code>, short for Domain Information Groper. <code>dig</code> should be available on all UT CS machines.\n",
    "Here is an example use of <code>dig</code>: \n",
    "<p>&nbsp;</p>\n",
    "<img width=500 src=\"figures/dig_cnn.png\">\n",
    "<p>&nbsp;</p>\n",
    "<code>dig</code> performs a DNS lookup and prints information about the request and the response it received. If you run dig, you may see results that differ from those presented here. At the bottom, we can see that the query was sent to our default server (128.83.130.204), and that it took roughly 25 milliseconds to respond. Most of the information we are interested in is in the ANSWER section.\n",
    "\n",
    "<pre>\n",
    "    <span style=\"color:blue\">\n",
    "    ;; ANSWER SECTION:\n",
    "    cnn.com.\t\t60\tIN\tA\t151.101.129.67\n",
    "    cnn.com.\t\t60\tIN\tA\t151.101.193.67\n",
    "    cnn.com.\t\t60\tIN\tA\t151.101.1.67\n",
    "    cnn.com.\t\t60\tIN\tA\t151.101.65.67\n",
    "    name       expire class type  data(IP)</span>\n",
    "</pre>\n",
    "<p>&nbsp;</p>\n",
    "We can see that this result is of type A, an address record: it is telling us that there are 4 IP addresses for the name \"cnn.com\". The expiry time field \"60\" indicates that this record/entry is valid for 60 seconds. You can ignore the \"class\" field; this is nearly always IN for Internet.\n",
    "\n",
    "We can ask a specific server (instead of the default) for information about a host by using the following syntax. \n",
    "<p>&nbsp;</p>\n",
    "<img width=550 src=\"figures/dig_cnn_auth.png\">\n",
    "<p>&nbsp;</p>\n",
    "Above result shows AUTHORITY SECTION because we have queried on one of the authoritative servers. The AUTHORITY section contains records of type NS, indicating the names of DNS servers that have name records for a particular domain. Here, we can see that four DNS servers (ns-47.awsdns-05.com., ns-576.awsdns-08.net., ns-1630.awsdns-11.co.uk. and ns-1086.awsdns-07.org.) are responsible for answering requests for names in the cnn.com domain. \n",
    "<p>&nbsp;</p>\n",
    "The <code>rd</code> (recursion desired) flag indicates that <code>dig</code> requested a recursive lookup, and the <code>ra</code> (recursion available) flag indicates that the server permits recursive lookups (some do not).\n",
    "\n",
    "<code>dig</code> only prints the final result of the recursive search. You can mimic the individual steps of a recursive search by sending a request to a particular DNS server and asking for no recursion, using the +norecurse flag. For example, to send a non-recursive query to one of the root servers: \n",
    "<p>&nbsp;</p>\n",
    "<img width=570 src=\"figures/dig_cnn_norecurse.png\">\n",
    "<p>&nbsp;</p>\n",
    "As you can see, the server does not know the answer and instead provides information about the servers most likely to be able to provide authoritative information. In this case, the best the root server knows is the identities of the servers for the com. domain. "
   ]
  },
  {
   "cell_type": "markdown",
   "metadata": {},
   "source": [
    "## Handson Questions\n",
    "\n",
    "You should submit answers only to the questions asked. In particular, please do not include  pages of output from dig unless specifically requested.\n",
    "<p>&nbsp;</p>\n",
    "\n",
    "#### Question 1\n",
    "Use <code>dig</code> to find the IP address of www.utexas.edu.  The <code>dig</code> result will include a record of type CNAME.  In the terminology of our textbook, what does CNAME mean?\n",
    "\n",
    "**Put your answer in the cell below**"
   ]
  },
  {
   "cell_type": "markdown",
   "metadata": {},
   "source": [
    "\n",
    "\n",
    "\n",
    "\n",
    "\n",
    "\n",
    "\n"
   ]
  },
  {
   "cell_type": "markdown",
   "metadata": {},
   "source": [
    "#### Quesion 2 \n",
    "Run the following commands:\n",
    "<pre>\n",
    "<code>\n",
    "dig +domain=utexas.edu data\n",
    "dig +domain=utexas.edu data.\n",
    "</code>\n",
    "</pre>\n",
    "(Note that there is a dot after data for the second command)\n",
    "Why are the results different? Based on the output of the two commands, what is the difference between the DNS searches being performed for data and data.?  It will be helpful to look at the man page for dig (type man dig at a command prompt) to see what the +domain= parameter does.\n",
    "\n",
    "**Put your answer in the cell below**"
   ]
  },
  {
   "cell_type": "markdown",
   "metadata": {},
   "source": [
    "\n",
    "\n",
    "\n"
   ]
  },
  {
   "cell_type": "markdown",
   "metadata": {},
   "source": [
    "#### Question 3 - Hierarchy\n",
    "Assuming it knows nothing else about a name, a DNS resolver will ask a well-known root server. The root servers on the Internet are in the domain root-servers.net. One way to get a list of them is with the command:\n",
    "\n",
    "dig . ns\n",
    "\n",
    "Use dig to ask one of the root servers the address of linux.cs.utexas.edu, without recursion.\n",
    "\n",
    "It is unlikely that these servers actually know the answer so they will refer you to a server (or list of servers) that might know more. Go through the hierarchy from the root without  recursion, following the referrals manually, until you have found the address of linux.cs.utexas.edu. \n",
    "\n",
    "How many queries did it take for you to find the IP address for linux.cs.utexas.edu?  Include the sequence of commands you used.\n",
    "\n",
    "**Put your answer in the cell below**"
   ]
  },
  {
   "cell_type": "markdown",
   "metadata": {},
   "source": [
    "\n",
    "\n",
    "\n",
    "\n",
    "\n",
    "\n"
   ]
  },
  {
   "cell_type": "markdown",
   "metadata": {},
   "source": [
    "#### Question 4 - Caching\n",
    "\n",
    "Ask your default server for information, without recursion, about the host www.dmoz.org.\n",
    "\n",
    "A. Did your default server have the answer in its cache?  How do you know?\n",
    "\n",
    "(If this information was cached, please find some other host name that is not cached and do the following part with that other host.)\n",
    "\n",
    "Now, ask your default server this same query but with recursion. It should return an answer for you. Finally, ask your default server again without recursion.\n",
    "\n",
    "B. Has the cache served its purpose?  How do you know?\n",
    "\n",
    "\n",
    "**Put your answer in the cell below**"
   ]
  },
  {
   "cell_type": "markdown",
   "metadata": {},
   "source": [
    "A. ANSWER HERE\n",
    "\n",
    "\n",
    "\n",
    "B. ANSWER HERE\n",
    "\n",
    "\n"
   ]
  },
  {
   "cell_type": "markdown",
   "metadata": {},
   "source": [
    "#### Question 5\n",
    "\n",
    "Suppose you can access the caches in the local DNS servers of UTCS. Can you propose a way to roughly determine the Web servers (outside the department) that are most popular among the users in the department? \n",
    "\n",
    "**Put your answer in the cell below**"
   ]
  },
  {
   "cell_type": "markdown",
   "metadata": {},
   "source": [
    "\n",
    "\n",
    "\n"
   ]
  },
  {
   "cell_type": "markdown",
   "metadata": {},
   "source": [
    "#### Question 6 \n",
    "\n",
    "Suppose that UTCS has a local DNS server for all computers in the department. You are an ordinary user (i.e., not a network/system administrator). Can you determine if an external Web site was likely accessed from a computer in the department a couple of seconds ago? \n",
    "\n",
    "**Put your answer in the cell below**"
   ]
  },
  {
   "cell_type": "markdown",
   "metadata": {},
   "source": [
    "\n",
    "\n",
    "\n"
   ]
  },
  {
   "cell_type": "markdown",
   "metadata": {},
   "source": [
    "## Submission \n",
    "\n",
    "**Remember to \"Save the Notebook\" (from the \"File\" menu above). You can \"Shutdown\" to finish.**\n",
    " Push the updated notebook to your Github classroom repository. Also submit the URL of your repository to Canvas."
   ]
  }
 ],
 "metadata": {
  "kernelspec": {
   "display_name": "Python 3",
   "language": "python",
   "name": "python3"
  },
  "language_info": {
   "codemirror_mode": {
    "name": "ipython",
    "version": 3
   },
   "file_extension": ".py",
   "mimetype": "text/x-python",
   "name": "python",
   "nbconvert_exporter": "python",
   "pygments_lexer": "ipython3",
   "version": "3.9.1"
  }
 },
 "nbformat": 4,
 "nbformat_minor": 4
}
